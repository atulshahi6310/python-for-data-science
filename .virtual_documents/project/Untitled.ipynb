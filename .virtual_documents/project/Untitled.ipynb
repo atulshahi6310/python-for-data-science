


import pandas as pd
import matplotlib.pyplot as plt
import seaborn as sns





df = pd.read_csv("weather_day8.csv")


print("First 5 rows:\n", df.head())
print("\nSummary:\n", df.describe())


avg_temp = df["Temperature (°C)"].mean()
max_temp = df["Temperature (°C)"].max()
min_temp = df["Temperature (°C)"].min()





