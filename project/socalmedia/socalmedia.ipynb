{
 "cells": [
  {
   "cell_type": "markdown",
   "id": "1fe238ab-9323-4408-9ffe-3a01a882e822",
   "metadata": {},
   "source": [
    "\n",
    "Let’s correct it and do the **actual Day 12 challenge: Social Media Analysis** 🎯\n",
    "\n",
    "---\n",
    "\n",
    "### 📝 Problem Statement (Day 12 – Social Media Analysis) 📱📊\n",
    "\n",
    "A company tracks engagement on its social media posts. The dataset includes:\n",
    "\n",
    "* Post ID\n",
    "* Post Type (Image, Video, Text, Link)\n",
    "* Likes\n",
    "* Comments\n",
    "* Shares\n",
    "\n",
    "#### Tasks:\n",
    "\n",
    "1. Load the dataset using **Pandas**.\n",
    "2. Find the **most engaging post type** (based on total likes + comments + shares).\n",
    "3. Calculate the **average engagement per post type**.\n",
    "4. Identify the **top 3 most engaging posts**.\n",
    "5. Visualize insights using **Matplotlib & Seaborn**:\n",
    "\n",
    "   * **Bar chart** → Average engagement per post type\n",
    "   * **Scatter plot** → Likes vs Comments (to see correlation)\n",
    "\n",
    "\n"
   ]
  },
  {
   "cell_type": "code",
   "execution_count": 2,
   "id": "b263f6e8-b2b1-4d77-8dc9-73e587cb35a9",
   "metadata": {},
   "outputs": [],
   "source": [
    "import pandas as pd\n",
    "import numpy as np"
   ]
  },
  {
   "cell_type": "code",
   "execution_count": 6,
   "id": "6c20040a-d16b-457c-b2f1-366767a96657",
   "metadata": {},
   "outputs": [],
   "source": [
    "import matplotlib.pyplot as plt\n",
    "import seaborn as sns\n",
    "\n",
    "df = pd.read_csv(\"social_media_data_day12.csv\")\n"
   ]
  },
  {
   "cell_type": "code",
   "execution_count": 7,
   "id": "e1dc051a-70cf-486d-b315-241a656d499c",
   "metadata": {},
   "outputs": [
    {
     "data": {
      "text/html": [
       "<div>\n",
       "<style scoped>\n",
       "    .dataframe tbody tr th:only-of-type {\n",
       "        vertical-align: middle;\n",
       "    }\n",
       "\n",
       "    .dataframe tbody tr th {\n",
       "        vertical-align: top;\n",
       "    }\n",
       "\n",
       "    .dataframe thead th {\n",
       "        text-align: right;\n",
       "    }\n",
       "</style>\n",
       "<table border=\"1\" class=\"dataframe\">\n",
       "  <thead>\n",
       "    <tr style=\"text-align: right;\">\n",
       "      <th></th>\n",
       "      <th>Post ID</th>\n",
       "      <th>Post Type</th>\n",
       "      <th>Likes</th>\n",
       "      <th>Comments</th>\n",
       "      <th>Shares</th>\n",
       "    </tr>\n",
       "  </thead>\n",
       "  <tbody>\n",
       "    <tr>\n",
       "      <th>0</th>\n",
       "      <td>1</td>\n",
       "      <td>Text</td>\n",
       "      <td>711</td>\n",
       "      <td>179</td>\n",
       "      <td>179</td>\n",
       "    </tr>\n",
       "    <tr>\n",
       "      <th>1</th>\n",
       "      <td>2</td>\n",
       "      <td>Link</td>\n",
       "      <td>358</td>\n",
       "      <td>197</td>\n",
       "      <td>39</td>\n",
       "    </tr>\n",
       "    <tr>\n",
       "      <th>2</th>\n",
       "      <td>3</td>\n",
       "      <td>Image</td>\n",
       "      <td>819</td>\n",
       "      <td>280</td>\n",
       "      <td>85</td>\n",
       "    </tr>\n",
       "    <tr>\n",
       "      <th>3</th>\n",
       "      <td>4</td>\n",
       "      <td>Text</td>\n",
       "      <td>393</td>\n",
       "      <td>199</td>\n",
       "      <td>168</td>\n",
       "    </tr>\n",
       "    <tr>\n",
       "      <th>4</th>\n",
       "      <td>5</td>\n",
       "      <td>Text</td>\n",
       "      <td>541</td>\n",
       "      <td>184</td>\n",
       "      <td>54</td>\n",
       "    </tr>\n",
       "  </tbody>\n",
       "</table>\n",
       "</div>"
      ],
      "text/plain": [
       "   Post ID Post Type  Likes  Comments  Shares\n",
       "0        1      Text    711       179     179\n",
       "1        2      Link    358       197      39\n",
       "2        3     Image    819       280      85\n",
       "3        4      Text    393       199     168\n",
       "4        5      Text    541       184      54"
      ]
     },
     "execution_count": 7,
     "metadata": {},
     "output_type": "execute_result"
    }
   ],
   "source": [
    "df.head()"
   ]
  },
  {
   "cell_type": "code",
   "execution_count": 8,
   "id": "444882a9-b60a-4338-bb23-8213feac509f",
   "metadata": {},
   "outputs": [],
   "source": [
    "df[\"Total Engagement\"] = df[\"Likes\"] + df[\"Comments\"] + df[\"Shares\"]\n",
    "engagement_by_type = df.groupby(\"Post Type\")[\"Total Engagement\"].sum().sort_values(ascending=False)\n",
    "most_engaging_type = engagement_by_type.idxmax()\n",
    "\n"
   ]
  },
  {
   "cell_type": "code",
   "execution_count": 9,
   "id": "e34d4676-f294-484e-b207-98662c171951",
   "metadata": {},
   "outputs": [
    {
     "data": {
      "text/html": [
       "<div>\n",
       "<style scoped>\n",
       "    .dataframe tbody tr th:only-of-type {\n",
       "        vertical-align: middle;\n",
       "    }\n",
       "\n",
       "    .dataframe tbody tr th {\n",
       "        vertical-align: top;\n",
       "    }\n",
       "\n",
       "    .dataframe thead th {\n",
       "        text-align: right;\n",
       "    }\n",
       "</style>\n",
       "<table border=\"1\" class=\"dataframe\">\n",
       "  <thead>\n",
       "    <tr style=\"text-align: right;\">\n",
       "      <th></th>\n",
       "      <th>Post ID</th>\n",
       "      <th>Post Type</th>\n",
       "      <th>Likes</th>\n",
       "      <th>Comments</th>\n",
       "      <th>Shares</th>\n",
       "      <th>Total Engagement</th>\n",
       "    </tr>\n",
       "  </thead>\n",
       "  <tbody>\n",
       "    <tr>\n",
       "      <th>0</th>\n",
       "      <td>1</td>\n",
       "      <td>Text</td>\n",
       "      <td>711</td>\n",
       "      <td>179</td>\n",
       "      <td>179</td>\n",
       "      <td>1069</td>\n",
       "    </tr>\n",
       "    <tr>\n",
       "      <th>1</th>\n",
       "      <td>2</td>\n",
       "      <td>Link</td>\n",
       "      <td>358</td>\n",
       "      <td>197</td>\n",
       "      <td>39</td>\n",
       "      <td>594</td>\n",
       "    </tr>\n",
       "    <tr>\n",
       "      <th>2</th>\n",
       "      <td>3</td>\n",
       "      <td>Image</td>\n",
       "      <td>819</td>\n",
       "      <td>280</td>\n",
       "      <td>85</td>\n",
       "      <td>1184</td>\n",
       "    </tr>\n",
       "    <tr>\n",
       "      <th>3</th>\n",
       "      <td>4</td>\n",
       "      <td>Text</td>\n",
       "      <td>393</td>\n",
       "      <td>199</td>\n",
       "      <td>168</td>\n",
       "      <td>760</td>\n",
       "    </tr>\n",
       "    <tr>\n",
       "      <th>4</th>\n",
       "      <td>5</td>\n",
       "      <td>Text</td>\n",
       "      <td>541</td>\n",
       "      <td>184</td>\n",
       "      <td>54</td>\n",
       "      <td>779</td>\n",
       "    </tr>\n",
       "  </tbody>\n",
       "</table>\n",
       "</div>"
      ],
      "text/plain": [
       "   Post ID Post Type  Likes  Comments  Shares  Total Engagement\n",
       "0        1      Text    711       179     179              1069\n",
       "1        2      Link    358       197      39               594\n",
       "2        3     Image    819       280      85              1184\n",
       "3        4      Text    393       199     168               760\n",
       "4        5      Text    541       184      54               779"
      ]
     },
     "execution_count": 9,
     "metadata": {},
     "output_type": "execute_result"
    }
   ],
   "source": [
    "df.head()"
   ]
  },
  {
   "cell_type": "code",
   "execution_count": 15,
   "id": "ec12a682-74f0-42f2-9959-6d2db0f16eb1",
   "metadata": {},
   "outputs": [
    {
     "data": {
      "text/plain": [
       "Post Type\n",
       "Image    1007.250000\n",
       "Link      759.166667\n",
       "Text      635.333333\n",
       "Video     528.000000\n",
       "Name: Total Engagement, dtype: float64"
      ]
     },
     "execution_count": 15,
     "metadata": {},
     "output_type": "execute_result"
    }
   ],
   "source": [
    "\n",
    "avg_engagement_by_type = df.groupby(\"Post Type\")[\"Total Engagement\"].mean()\n",
    "\n",
    "avg_engagement_by_type"
   ]
  },
  {
   "cell_type": "code",
   "execution_count": 16,
   "id": "53595c48-77b3-4291-af5b-9c74ab16eb44",
   "metadata": {},
   "outputs": [
    {
     "data": {
      "text/html": [
       "<div>\n",
       "<style scoped>\n",
       "    .dataframe tbody tr th:only-of-type {\n",
       "        vertical-align: middle;\n",
       "    }\n",
       "\n",
       "    .dataframe tbody tr th {\n",
       "        vertical-align: top;\n",
       "    }\n",
       "\n",
       "    .dataframe thead th {\n",
       "        text-align: right;\n",
       "    }\n",
       "</style>\n",
       "<table border=\"1\" class=\"dataframe\">\n",
       "  <thead>\n",
       "    <tr style=\"text-align: right;\">\n",
       "      <th></th>\n",
       "      <th>Post ID</th>\n",
       "      <th>Post Type</th>\n",
       "      <th>Total Engagement</th>\n",
       "    </tr>\n",
       "  </thead>\n",
       "  <tbody>\n",
       "    <tr>\n",
       "      <th>16</th>\n",
       "      <td>17</td>\n",
       "      <td>Link</td>\n",
       "      <td>1346</td>\n",
       "    </tr>\n",
       "    <tr>\n",
       "      <th>2</th>\n",
       "      <td>3</td>\n",
       "      <td>Image</td>\n",
       "      <td>1184</td>\n",
       "    </tr>\n",
       "    <tr>\n",
       "      <th>15</th>\n",
       "      <td>16</td>\n",
       "      <td>Image</td>\n",
       "      <td>1096</td>\n",
       "    </tr>\n",
       "  </tbody>\n",
       "</table>\n",
       "</div>"
      ],
      "text/plain": [
       "    Post ID Post Type  Total Engagement\n",
       "16       17      Link              1346\n",
       "2         3     Image              1184\n",
       "15       16     Image              1096"
      ]
     },
     "execution_count": 16,
     "metadata": {},
     "output_type": "execute_result"
    }
   ],
   "source": [
    "\n",
    "top3_posts = df.nlargest(3, \"Total Engagement\")[[\"Post ID\", \"Post Type\", \"Total Engagement\"]]\n",
    "\n",
    "top3_posts"
   ]
  },
  {
   "cell_type": "code",
   "execution_count": 12,
   "id": "3f2f02e8-5d29-48fb-a336-7431ea9c5106",
   "metadata": {},
   "outputs": [
    {
     "name": "stderr",
     "output_type": "stream",
     "text": [
      "C:\\Users\\Lenovo\\AppData\\Local\\Temp\\ipykernel_4320\\999123288.py:2: FutureWarning: \n",
      "\n",
      "Passing `palette` without assigning `hue` is deprecated and will be removed in v0.14.0. Assign the `x` variable to `hue` and set `legend=False` for the same effect.\n",
      "\n",
      "  sns.barplot(x=avg_engagement_by_type.index, y=avg_engagement_by_type.values, palette=\"viridis\")\n"
     ]
    },
    {
     "data": {
      "image/png": "[encoded data removed]",
      "text/plain": [
       "<Figure size 800x500 with 1 Axes>"
      ]
     },
     "metadata": {},
     "output_type": "display_data"
    }
   ],
   "source": [
    "\n",
    "plt.figure(figsize=(8,5))\n",
    "sns.barplot(x=avg_engagement_by_type.index, y=avg_engagement_by_type.values, palette=\"viridis\")\n",
    "plt.title(\"Average Engagement per Post Type\")\n",
    "plt.ylabel(\"Average Engagement\")\n",
    "plt.xlabel(\"Post Type\")\n",
    "plt.show()\n",
    "\n"
   ]
  },
  {
   "cell_type": "code",
   "execution_count": 13,
   "id": "7be21153-faf3-4a9b-8971-bdc92587a861",
   "metadata": {},
   "outputs": [
    {
     "data": {
      "image/png": "[encoded data removed]",
      "text/plain": [
       "<Figure size 800x500 with 1 Axes>"
      ]
     },
     "metadata": {},
     "output_type": "display_data"
    },
    {
     "data": {
      "text/plain": [
       "(Post Type\n",
       " Text     5718\n",
       " Link     4555\n",
       " Image    4029\n",
       " Video     528\n",
       " Name: Total Engagement, dtype: int64,\n",
       " 'Text',\n",
       " Post Type\n",
       " Image    1007.250000\n",
       " Link      759.166667\n",
       " Text      635.333333\n",
       " Video     528.000000\n",
       " Name: Total Engagement, dtype: float64,\n",
       "     Post ID Post Type  Total Engagement\n",
       " 16       17      Link              1346\n",
       " 2         3     Image              1184\n",
       " 15       16     Image              1096)"
      ]
     },
     "execution_count": 13,
     "metadata": {},
     "output_type": "execute_result"
    }
   ],
   "source": [
    "\n",
    "plt.figure(figsize=(8,5))\n",
    "sns.scatterplot(data=df, x=\"Likes\", y=\"Comments\", hue=\"Post Type\", size=\"Shares\", palette=\"Set2\", sizes=(20,200))\n",
    "plt.title(\"Likes vs Comments (Bubble size = Shares)\")\n",
    "plt.xlabel(\"Likes\")\n",
    "plt.ylabel(\"Comments\")\n",
    "plt.show()\n",
    "\n",
    "engagement_by_type, most_engaging_type, avg_engagement_by_type, top3_posts\n"
   ]
  },
  {
   "cell_type": "code",
   "execution_count": null,
   "id": "b7c67925-77d7-4dcc-9d21-cbc4abd2ddd5",
   "metadata": {},
   "outputs": [],
   "source": []
  }
 ],
 "metadata": {
  "kernelspec": {
   "display_name": "Python 3 (ipykernel)",
   "language": "python",
   "name": "python3"
  },
  "language_info": {
   "codemirror_mode": {
    "name": "ipython",
    "version": 3
   },
   "file_extension": ".py",
   "mimetype": "text/x-python",
   "name": "python",
   "nbconvert_exporter": "python",
   "pygments_lexer": "ipython3",
   "version": "3.13.5"
  }
 },
 "nbformat": 4,
 "nbformat_minor": 5
}
