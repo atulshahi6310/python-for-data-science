{
 "cells": [
  {
   "cell_type": "code",
   "execution_count": 4,
   "metadata": {
    "id": "DtK2cJsjJa_u"
   },
   "outputs": [],
   "source": [
    "import requests\n",
    "import pandas as pd\n",
    "from bs4 import BeautifulSoup\n",
    "import time"
   ]
  },
  {
   "cell_type": "markdown",
   "metadata": {
    "id": "n4NqDJnsJuCx"
   },
   "source": [
    "# Web scraping"
   ]
  },
  {
   "cell_type": "code",
   "execution_count": 5,
   "metadata": {
    "colab": {
     "base_uri": "https://localhost:8080/"
    },
    "id": "LH_2jC8XJ3Hj",
    "outputId": "9ce4a32e-bc69-466f-ad47-a27940fdab87"
   },
   "outputs": [
    {
     "name": "stdout",
     "output_type": "stream",
     "text": [
      "   Rank                                               Name  Year     Rating\n",
      "0     1                           The Shawshank Redemption  1994  9.3(3.1M)\n",
      "1     2                                      The Godfather  1972  9.2(2.2M)\n",
      "2     3                                    The Dark Knight  2008  9.1(3.1M)\n",
      "3     4                             The Godfather: Part II  1974  9.0(1.4M)\n",
      "4     5                                       12 Angry Men  1957  9.0(947K)\n",
      "5     6      The Lord of the Rings: The Return of the King  2003  9.0(2.1M)\n",
      "6     7                                   Schindler's List  1993  9.0(1.5M)\n",
      "7     8                                       Pulp Fiction  1994  8.8(2.4M)\n",
      "8     9  The Lord of the Rings: The Fellowship of the Ring  2001  8.9(2.1M)\n",
      "9    10                    Il Buono, Il Brutto, Il Cattivo  1966  8.8(867K)\n",
      "10   11                                       Forrest Gump  1994  8.8(2.4M)\n",
      "11   12              The Lord of the Rings: The Two Towers  2002  8.8(1.9M)\n",
      "12   13                                         Fight Club  1999  8.8(2.5M)\n",
      "13   14                                          Inception  2010  8.8(2.7M)\n",
      "14   15     Star Wars: Episode V - The Empire Strikes Back  1980  8.7(1.5M)\n",
      "All 250 movies saved to imdb_top_250.csv\n"
     ]
    }
   ],
   "source": [
    "import requests\n",
    "from bs4 import BeautifulSoup\n",
    "import pandas as pd\n",
    "\n",
    "def get_movies_data():\n",
    "    url = \"https://www.imdb.com/chart/top/?ref_=hm_nv_menu\"\n",
    "    headers = {\n",
    "        \"User-Agent\": \"Mozilla/5.0 (Windows NT 10.0; Win64; x64) \"\n",
    "                      \"AppleWebKit/537.36 (KHTML, like Gecko) \"\n",
    "                      \"Chrome/120.0.0.0 Safari/537.36\"\n",
    "    }\n",
    "    res = requests.get(url, headers=headers)\n",
    "    soup = BeautifulSoup(res.text, \"html.parser\")\n",
    "\n",
    "    movies = soup.find_all('li', class_=\"ipc-metadata-list-summary-item\")\n",
    "\n",
    "    results = []\n",
    "    for movie in movies[:25]:\n",
    "        raw_title = movie.find('h3', class_=\"ipc-title__text\").get_text(strip=True)\n",
    "\n",
    "        if \".\" in raw_title:\n",
    "            rank, name = raw_title.split(\".\", 1)\n",
    "            rank = rank.strip()\n",
    "            name = name.strip()\n",
    "        else:\n",
    "            rank, name = None, raw_title\n",
    "\n",
    "        year_tag = movie.find('span', class_=\"cli-title-metadata-item\")\n",
    "        movie_year = year_tag.get_text(strip=True) if year_tag else \"N/A\"\n",
    "\n",
    "        rating_tag = movie.find('span', class_=\"ipc-rating-star--imdb\")\n",
    "        movie_rating = rating_tag.get_text(strip=True) if rating_tag else \"N/A\"\n",
    "\n",
    "        results.append({\n",
    "            \"Rank\": rank,\n",
    "            \"Name\": name,\n",
    "            \"Year\": movie_year,\n",
    "            \"Rating\": movie_rating\n",
    "        })\n",
    "\n",
    "    return results\n",
    "\n",
    "# Run it\n",
    "data = get_movies_data()\n",
    "\n",
    "df = pd.DataFrame(data)\n",
    "\n",
    "print(df.head(15))\n",
    "\n",
    "df.to_csv(\"imdb_top_250.csv\", index=False, encoding=\"utf-8\")\n",
    "print(\"All 250 movies saved to imdb_top_250.csv\")"
   ]
  },
  {
   "cell_type": "code",
   "execution_count": null,
   "metadata": {
    "id": "eX17bV9xa-1b"
   },
   "outputs": [],
   "source": []
  }
 ],
 "metadata": {
  "colab": {
   "provenance": [],
   "toc_visible": true
  },
  "kernelspec": {
   "display_name": "Python 3 (ipykernel)",
   "language": "python",
   "name": "python3"
  },
  "language_info": {
   "codemirror_mode": {
    "name": "ipython",
    "version": 3
   },
   "file_extension": ".py",
   "mimetype": "text/x-python",
   "name": "python",
   "nbconvert_exporter": "python",
   "pygments_lexer": "ipython3",
   "version": "3.13.5"
  }
 },
 "nbformat": 4,
 "nbformat_minor": 4
}
