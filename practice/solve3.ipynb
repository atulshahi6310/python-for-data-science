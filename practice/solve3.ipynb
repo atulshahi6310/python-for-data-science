{
 "cells": [
  {
   "cell_type": "markdown",
   "id": "28b191f7-ebd9-4877-ba16-727ae8cfed4f",
   "metadata": {},
   "source": [
    "Consider a list (list = []). You can perform the following commands:\n",
    "\n",
    "insert i e: Insert integer  at position .\n",
    "print: Print the list.\n",
    "remove e: Delete the first occurrence of integer .\n",
    "append e: Insert integer  at the end of the list.\n",
    "sort: Sort the list.\n",
    "pop: Pop the last element from the list.\n",
    "reverse: Reverse the list.\n",
    "Initialize your list and read in the value of  followed by  lines of commands where each command will be of the  types listed above. Iterate through each command in order and perform the corresponding operation on your list."
   ]
  },
  {
   "cell_type": "code",
   "execution_count": 8,
   "id": "6fb84e23-3023-4ebe-9c89-49cb0cbeb2a4",
   "metadata": {},
   "outputs": [
    {
     "name": "stdin",
     "output_type": "stream",
     "text": [
      " 5\n",
      " insert 0 1\n",
      " insert 1 2\n",
      " print\n"
     ]
    },
    {
     "name": "stdout",
     "output_type": "stream",
     "text": [
      "[1, 2]\n"
     ]
    },
    {
     "name": "stdin",
     "output_type": "stream",
     "text": [
      " remove 2\n",
      " print\n"
     ]
    },
    {
     "name": "stdout",
     "output_type": "stream",
     "text": [
      "[1]\n"
     ]
    }
   ],
   "source": [
    "N = int(input())\n",
    "    \n",
    "alist = []\n",
    "for _ in range(N):\n",
    "        command = input().split()\n",
    "        cmd = command[0]\n",
    "        arg = list(map(int,command[1:]))\n",
    "        \n",
    "        if cmd == \"insert\" :\n",
    "            alist.insert(arg[0],arg[1])\n",
    "        elif  cmd == \"print\":\n",
    "            print(alist)\n",
    "        elif cmd == \"remove\":\n",
    "            alist.remove(arg[0])\n",
    "        elif cmd ==\"append\":\n",
    "            alist.append(arg[0])\n",
    "        elif cmd ==\"sort\":\n",
    "            alist.sort()\n",
    "        elif cmd ==\"pop\":\n",
    "            alist.pop()\n",
    "        elif cmd ==\"reverse\":\n",
    "            alist.reverse()\n",
    "    "
   ]
  },
  {
   "cell_type": "code",
   "execution_count": null,
   "id": "55824051-dd25-45af-b969-0101461955ef",
   "metadata": {},
   "outputs": [],
   "source": []
  },
  {
   "cell_type": "code",
   "execution_count": null,
   "id": "acdf2c19-24f8-46df-88de-45aec05cd248",
   "metadata": {},
   "outputs": [],
   "source": []
  }
 ],
 "metadata": {
  "kernelspec": {
   "display_name": "Python 3 (ipykernel)",
   "language": "python",
   "name": "python3"
  },
  "language_info": {
   "codemirror_mode": {
    "name": "ipython",
    "version": 3
   },
   "file_extension": ".py",
   "mimetype": "text/x-python",
   "name": "python",
   "nbconvert_exporter": "python",
   "pygments_lexer": "ipython3",
   "version": "3.13.5"
  }
 },
 "nbformat": 4,
 "nbformat_minor": 5
}
