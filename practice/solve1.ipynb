{
 "cells": [
  {
   "cell_type": "markdown",
   "id": "93f73cdb-07ff-48ab-ae35-bda4c1058c35",
   "metadata": {},
   "source": [
    "# Given the names and grades for each student in a class of  students, store them in a nested list and print the name(s) of any student(s) having the second lowest grade.\n",
    "Note: If there are multiple students with the second lowest grade, order their names alphabetically and print each name on a new line.\n",
    "\n"
   ]
  },
  {
   "cell_type": "code",
   "execution_count": 17,
   "id": "2ba47531-e211-439f-acaf-a51068abbb24",
   "metadata": {},
   "outputs": [
    {
     "name": "stdin",
     "output_type": "stream",
     "text": [
      " 4\n",
      " atul\n",
      " 50\n",
      " arun\n",
      " 45\n",
      " nitsh\n",
      " 44\n",
      " pearl\n",
      " 33\n"
     ]
    },
    {
     "name": "stdout",
     "output_type": "stream",
     "text": [
      "output is  nitsh\n"
     ]
    }
   ],
   "source": [
    "n = int(input())\n",
    "student=[]\n",
    "for _ in range(n):\n",
    "    name = input()\n",
    "    score = float(input())\n",
    "    student.append([name, score])\n",
    "score = sorted(s[1] for s in student)\n",
    "second_lowest = score[1]\n",
    "second_lowest_student = sorted(s[0] for s in student if s[1] == second_lowest)\n",
    "second_lowest_student.sort()\n",
    "for name in second_lowest_student:\n",
    "        print('output is ', name)\n"
   ]
  },
  {
   "cell_type": "code",
   "execution_count": null,
   "id": "fe5d2a66-d0f8-457e-8143-a782c9890554",
   "metadata": {},
   "outputs": [],
   "source": []
  }
 ],
 "metadata": {
  "kernelspec": {
   "display_name": "Python 3 (ipykernel)",
   "language": "python",
   "name": "python3"
  },
  "language_info": {
   "codemirror_mode": {
    "name": "ipython",
    "version": 3
   },
   "file_extension": ".py",
   "mimetype": "text/x-python",
   "name": "python",
   "nbconvert_exporter": "python",
   "pygments_lexer": "ipython3",
   "version": "3.13.5"
  }
 },
 "nbformat": 4,
 "nbformat_minor": 5
}
