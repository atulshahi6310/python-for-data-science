{
  "nbformat": 4,
  "nbformat_minor": 0,
  "metadata": {
    "colab": {
      "provenance": [],
      "toc_visible": true
    },
    "kernelspec": {
      "name": "python3",
      "display_name": "Python 3"
    },
    "language_info": {
      "name": "python"
    }
  },
  "cells": [
    {
      "cell_type": "code",
      "execution_count": null,
      "metadata": {
        "id": "kcTiJ6KWqcw4"
      },
      "outputs": [],
      "source": [
        "def bank():\n",
        "  print(\"the account balance of your account is 110 cr \")"
      ]
    },
    {
      "cell_type": "code",
      "source": [
        "def car(b):\n",
        "  if b >1:\n",
        "    print(\" okk first cheack your bank balance \")\n",
        "    bank()\n",
        "    print(\" you can buy it\")\n",
        "  elif b  >5:\n",
        "     print(\" okk first cheack your bank balance \")\n",
        "     bank()\n",
        "     print(\" you can buy it\")\n",
        "  elif b >10:\n",
        "      print(\" okk first cheack your bank balance \")\n",
        "      bank()\n",
        "      print(\" you can't buy it\")\n",
        "      print(\"-------sorry------\")\n",
        "\n"
      ],
      "metadata": {
        "id": "rV_I9N4_rUwI"
      },
      "execution_count": null,
      "outputs": []
    },
    {
      "cell_type": "code",
      "source": [
        "lambo = int (input(\" enter how much car you want to buy\"))\n",
        "car(lambo)"
      ],
      "metadata": {
        "colab": {
          "base_uri": "https://localhost:8080/"
        },
        "id": "rBG0puStsbSE",
        "outputId": "984bb1e8-29ac-4250-dab1-3c00a99bab0d"
      },
      "execution_count": null,
      "outputs": [
        {
          "output_type": "stream",
          "name": "stdout",
          "text": [
            " enter how much car you want to buy2\n",
            " okk first cheack your bank balance \n",
            "the account balance of your account is 110 cr \n",
            " you can buy it\n"
          ]
        }
      ]
    },
    {
      "cell_type": "code",
      "source": [],
      "metadata": {
        "id": "chWQHwGisqPt"
      },
      "execution_count": null,
      "outputs": []
    },
    {
      "cell_type": "markdown",
      "source": [
        "# OPPS"
      ],
      "metadata": {
        "id": "u6nVbKLMtN4k"
      }
    },
    {
      "cell_type": "code",
      "source": [
        "class school:\n",
        "  def __init__(self, name, age, grade):\n",
        "    self.name = name\n",
        "    self.age = age\n",
        "    self.grade = grade\n",
        "\n",
        "    if self.grade == 'a':\n",
        "      print(f\"student {self.name} is in grade {self.grade}\")\n",
        "      print(\"no need to call his parents \")\n",
        "    elif self.grade == 'b':\n",
        "      print(f\"student {self.name} is in grade {self.grade}\")\n",
        "      print(\"no need to call his parents \")\n",
        "    elif self.grade == 'c':\n",
        "      print(f\"student {self.name} is in grade {self.grade}\")\n",
        "      print(\" call his parents \")\n",
        "    else :\n",
        "      print(f\"student {self.name} is in grade {self.grade}\")\n",
        "      print(\"call his parents \")\n",
        "\n",
        "class certification(school):\n",
        "  def __init__(self, name, age, grade):\n",
        "    super().__init__(name, age, grade) # Call the parent class constructor\n",
        "\n",
        "  def __str__(self):\n",
        "    if self.grade == 'a':\n",
        "      return f\"student {self.name} is get google certifications\"\n",
        "    elif self.grade == 'b':\n",
        "      return f\"student {self.name} is get cisco certifications\"\n",
        "    elif self.grade == 'c':\n",
        "      return f\"student {self.name} is get  tcs  certifications\"\n",
        "    else:\n",
        "      return f\"student {self.name} does not have any certifications\"\n",
        "\n",
        "\n",
        "# Example usage:\n",
        "name =input(\"enter your name\")\n",
        "age = int(input(\"enter your age\"))\n",
        "grade = input(\"enter your grade\")\n",
        "student1 = certification(name, age, grade)\n",
        "print(student1)\n"
      ],
      "metadata": {
        "colab": {
          "base_uri": "https://localhost:8080/"
        },
        "id": "i6lSkY9mtPFe",
        "outputId": "a8fc72f9-cf78-47d4-dd67-5eaddf372133"
      },
      "execution_count": null,
      "outputs": [
        {
          "output_type": "stream",
          "name": "stdout",
          "text": [
            "enter your namewdwd\n",
            "enter your age55\n",
            "enter your graded\n",
            "student wdwd is in grade d\n",
            "call his parents \n",
            "student wdwd does not have any certifications\n"
          ]
        }
      ]
    },
    {
      "cell_type": "code",
      "source": [],
      "metadata": {
        "id": "o8Ac4ecuyOdX"
      },
      "execution_count": null,
      "outputs": []
    },
    {
      "cell_type": "markdown",
      "source": [
        "# data structure in python :\n",
        "  1) list\n",
        "  2) tuple\n",
        "  3) dictonary"
      ],
      "metadata": {
        "id": "O_EB3fyH0lX1"
      }
    },
    {
      "cell_type": "code",
      "source": [
        "student = [1,2,3,4,5,6,7,8,9,10,20,30,40,50,60,70,80,90,100]\n"
      ],
      "metadata": {
        "id": "NhwXnwDj0ypF"
      },
      "execution_count": null,
      "outputs": []
    },
    {
      "cell_type": "code",
      "source": [
        "print(student)"
      ],
      "metadata": {
        "colab": {
          "base_uri": "https://localhost:8080/"
        },
        "id": "PL32zJJV14Xc",
        "outputId": "ed324923-4365-40d4-9126-36cd4b2f649d"
      },
      "execution_count": null,
      "outputs": [
        {
          "output_type": "stream",
          "name": "stdout",
          "text": [
            "[1, 2, 3, 4, 5, 6, 7, 8, 9, 10, 20, 30, 40, 50, 60, 70, 80, 90, 100]\n"
          ]
        }
      ]
    },
    {
      "cell_type": "code",
      "source": [
        "student.append(5)"
      ],
      "metadata": {
        "id": "Am6MiY2g19df"
      },
      "execution_count": null,
      "outputs": []
    },
    {
      "cell_type": "code",
      "source": [
        "student"
      ],
      "metadata": {
        "colab": {
          "base_uri": "https://localhost:8080/"
        },
        "id": "WUNJ2Euj2ATU",
        "outputId": "3036e2d2-1857-46e4-d09f-735b59a48ed0"
      },
      "execution_count": null,
      "outputs": [
        {
          "output_type": "execute_result",
          "data": {
            "text/plain": [
              "[1, 2, 3, 4, 5, 6, 7, 8, 9, 10, 20, 30, 40, 50, 60, 70, 80, 90, 100, 5]"
            ]
          },
          "metadata": {},
          "execution_count": 10
        }
      ]
    },
    {
      "cell_type": "code",
      "source": [
        "student.extend([5])"
      ],
      "metadata": {
        "id": "sCWMq41R2BwH"
      },
      "execution_count": null,
      "outputs": []
    },
    {
      "cell_type": "code",
      "source": [
        "student"
      ],
      "metadata": {
        "colab": {
          "base_uri": "https://localhost:8080/"
        },
        "id": "tZtQkyMA2HPe",
        "outputId": "f7cae560-146d-40a4-9a2f-d985e7a54d4b"
      },
      "execution_count": null,
      "outputs": [
        {
          "output_type": "execute_result",
          "data": {
            "text/plain": [
              "[1, 2, 3, 4, 5, 6, 7, 8, 9, 10, 20, 30, 40, 50, 60, 70, 80, 90, 100, 5, 5]"
            ]
          },
          "metadata": {},
          "execution_count": 13
        }
      ]
    },
    {
      "cell_type": "code",
      "source": [
        "student.pop(5)"
      ],
      "metadata": {
        "colab": {
          "base_uri": "https://localhost:8080/"
        },
        "id": "xSBYHxRv2NN0",
        "outputId": "2be5c934-7d53-467b-88db-8cff3a2edc51"
      },
      "execution_count": null,
      "outputs": [
        {
          "output_type": "execute_result",
          "data": {
            "text/plain": [
              "6"
            ]
          },
          "metadata": {},
          "execution_count": 15
        }
      ]
    },
    {
      "cell_type": "code",
      "source": [
        "student.remove(5)\n"
      ],
      "metadata": {
        "id": "mFB5j5D42eUN"
      },
      "execution_count": null,
      "outputs": []
    },
    {
      "cell_type": "code",
      "source": [
        "student"
      ],
      "metadata": {
        "colab": {
          "base_uri": "https://localhost:8080/"
        },
        "id": "S57wIgQ82qAU",
        "outputId": "0f22870b-0431-4c2c-a85f-7783c6e1bdd0"
      },
      "execution_count": null,
      "outputs": [
        {
          "output_type": "execute_result",
          "data": {
            "text/plain": [
              "[1, 2, 3, 4, 7, 8, 9, 10, 20, 30, 40, 50, 60, 70, 80, 90, 100, 5, 5]"
            ]
          },
          "metadata": {},
          "execution_count": 18
        }
      ]
    },
    {
      "cell_type": "code",
      "source": [
        "student.count(5)"
      ],
      "metadata": {
        "colab": {
          "base_uri": "https://localhost:8080/"
        },
        "id": "c_Y6SYo22rBs",
        "outputId": "0a9162f1-5fd0-403b-8227-c35dd67e2cda"
      },
      "execution_count": null,
      "outputs": [
        {
          "output_type": "execute_result",
          "data": {
            "text/plain": [
              "2"
            ]
          },
          "metadata": {},
          "execution_count": 20
        }
      ]
    },
    {
      "cell_type": "code",
      "source": [
        "student.sort()"
      ],
      "metadata": {
        "id": "6uK-Y5xn26gW"
      },
      "execution_count": null,
      "outputs": []
    },
    {
      "cell_type": "code",
      "source": [
        "student"
      ],
      "metadata": {
        "colab": {
          "base_uri": "https://localhost:8080/"
        },
        "id": "96Eolw4t3F8a",
        "outputId": "93261dd5-2bd3-4e72-aec5-5fc7e8ddf9bc"
      },
      "execution_count": null,
      "outputs": [
        {
          "output_type": "execute_result",
          "data": {
            "text/plain": [
              "[1, 2, 3, 4, 5, 5, 7, 8, 9, 10, 20, 30, 40, 50, 60, 70, 80, 90, 100]"
            ]
          },
          "metadata": {},
          "execution_count": 23
        }
      ]
    },
    {
      "cell_type": "code",
      "source": [
        "student.reverse()"
      ],
      "metadata": {
        "id": "RLvFn8WH3H13"
      },
      "execution_count": null,
      "outputs": []
    },
    {
      "cell_type": "code",
      "source": [
        "student"
      ],
      "metadata": {
        "colab": {
          "base_uri": "https://localhost:8080/"
        },
        "id": "O11FuFE_3L1X",
        "outputId": "89720982-fb45-4d11-d668-d705ac9db217"
      },
      "execution_count": null,
      "outputs": [
        {
          "output_type": "execute_result",
          "data": {
            "text/plain": [
              "[100, 90, 80, 70, 60, 50, 40, 30, 20, 10, 9, 8, 7, 5, 5, 4, 3, 2, 1]"
            ]
          },
          "metadata": {},
          "execution_count": 25
        }
      ]
    },
    {
      "cell_type": "code",
      "source": [
        "student[::2]"
      ],
      "metadata": {
        "colab": {
          "base_uri": "https://localhost:8080/"
        },
        "id": "NDYGn80p3NQx",
        "outputId": "7ba61782-bd2f-48ba-e4b1-5f197354d1f7"
      },
      "execution_count": null,
      "outputs": [
        {
          "output_type": "execute_result",
          "data": {
            "text/plain": [
              "[100, 80, 60, 40, 20, 9, 7, 5, 3, 1]"
            ]
          },
          "metadata": {},
          "execution_count": 26
        }
      ]
    },
    {
      "cell_type": "code",
      "source": [
        "tupple = (1,2,2,2,22,2,2222,5,5,5,5,5)"
      ],
      "metadata": {
        "id": "icxP3--O3tRg"
      },
      "execution_count": null,
      "outputs": []
    },
    {
      "cell_type": "code",
      "source": [
        "tupple"
      ],
      "metadata": {
        "colab": {
          "base_uri": "https://localhost:8080/"
        },
        "id": "kb-feQQy5GVM",
        "outputId": "3d7afad2-fb5f-41fb-b379-5852ae013dfc"
      },
      "execution_count": null,
      "outputs": [
        {
          "output_type": "execute_result",
          "data": {
            "text/plain": [
              "(1, 2, 2, 2, 22, 2, 2222, 5, 5, 5, 5, 5)"
            ]
          },
          "metadata": {},
          "execution_count": 28
        }
      ]
    },
    {
      "cell_type": "code",
      "source": [
        "tupple[::2]"
      ],
      "metadata": {
        "colab": {
          "base_uri": "https://localhost:8080/"
        },
        "id": "MmOxdevC5HGD",
        "outputId": "94f88b4c-1bdc-422e-8d41-492687c19392"
      },
      "execution_count": null,
      "outputs": [
        {
          "output_type": "execute_result",
          "data": {
            "text/plain": [
              "(1, 2, 22, 2222, 5, 5)"
            ]
          },
          "metadata": {},
          "execution_count": 29
        }
      ]
    },
    {
      "cell_type": "code",
      "source": [
        "tupple[1:3]"
      ],
      "metadata": {
        "colab": {
          "base_uri": "https://localhost:8080/"
        },
        "id": "0lRQaGL95Jij",
        "outputId": "19139c71-65a0-4478-98da-da56d05bca23"
      },
      "execution_count": null,
      "outputs": [
        {
          "output_type": "execute_result",
          "data": {
            "text/plain": [
              "(2, 2)"
            ]
          },
          "metadata": {},
          "execution_count": 30
        }
      ]
    },
    {
      "cell_type": "code",
      "source": [
        "tupple.count(2)"
      ],
      "metadata": {
        "colab": {
          "base_uri": "https://localhost:8080/"
        },
        "id": "X3llycfW5Lxu",
        "outputId": "840021a0-89f6-444f-b9dc-52dda744faa8"
      },
      "execution_count": null,
      "outputs": [
        {
          "output_type": "execute_result",
          "data": {
            "text/plain": [
              "4"
            ]
          },
          "metadata": {},
          "execution_count": 31
        }
      ]
    },
    {
      "cell_type": "code",
      "source": [
        "tupple.index(2)"
      ],
      "metadata": {
        "colab": {
          "base_uri": "https://localhost:8080/"
        },
        "id": "v8R4XjQ15OXe",
        "outputId": "ea6a46c5-a483-40b0-c455-b7218e30b931"
      },
      "execution_count": null,
      "outputs": [
        {
          "output_type": "execute_result",
          "data": {
            "text/plain": [
              "1"
            ]
          },
          "metadata": {},
          "execution_count": 32
        }
      ]
    },
    {
      "cell_type": "code",
      "source": [
        "print(sorted(tupple))"
      ],
      "metadata": {
        "colab": {
          "base_uri": "https://localhost:8080/"
        },
        "id": "K04HXZhd5RfX",
        "outputId": "409bd6b4-ab12-43e9-b3b3-05fa3edbf992"
      },
      "execution_count": null,
      "outputs": [
        {
          "output_type": "stream",
          "name": "stdout",
          "text": [
            "[1, 2, 2, 2, 2, 5, 5, 5, 5, 5, 22, 2222]\n"
          ]
        }
      ]
    },
    {
      "cell_type": "code",
      "source": [
        "setss = {1,2,3,4,5,6,7,8,9,10,2,3}"
      ],
      "metadata": {
        "id": "Zht2-JfE5T9h"
      },
      "execution_count": null,
      "outputs": []
    },
    {
      "cell_type": "code",
      "source": [
        "setss"
      ],
      "metadata": {
        "colab": {
          "base_uri": "https://localhost:8080/"
        },
        "id": "L5_dlh2X5po9",
        "outputId": "55758fcd-d1b0-4f40-a37c-e4f3b050d367"
      },
      "execution_count": null,
      "outputs": [
        {
          "output_type": "execute_result",
          "data": {
            "text/plain": [
              "{1, 2, 3, 4, 5, 6, 7, 8, 9, 10}"
            ]
          },
          "metadata": {},
          "execution_count": 37
        }
      ]
    },
    {
      "cell_type": "markdown",
      "source": [
        "file handling\n"
      ],
      "metadata": {
        "id": "y0T9Nm8g7FYw"
      }
    },
    {
      "cell_type": "code",
      "source": [
        "f =open(\"f.txt\" , \"w\")\n",
        "c =f.write('''hello worl my name is atul kumar shahi i am a ai ml\n",
        "developer and i a data expert ''')\n",
        "print(c)\n",
        "f.close()"
      ],
      "metadata": {
        "id": "nkakDGwr61ih",
        "colab": {
          "base_uri": "https://localhost:8080/"
        },
        "outputId": "2243e4f2-f688-4c46-a929-494184ca0b86"
      },
      "execution_count": null,
      "outputs": [
        {
          "output_type": "stream",
          "name": "stdout",
          "text": [
            "83\n"
          ]
        }
      ]
    },
    {
      "cell_type": "code",
      "source": [
        "try :\n",
        "   with open(\"f.txt\" , \"r\") as f:\n",
        "      print(f.read())\n",
        "except :\n",
        "  print(\"error\")\n",
        "finally:\n",
        "  print(\"finally\")"
      ],
      "metadata": {
        "colab": {
          "base_uri": "https://localhost:8080/"
        },
        "id": "BdxWKb6AhgFv",
        "outputId": "f362cd03-e99d-439d-e4bf-eb34abed8fa2"
      },
      "execution_count": null,
      "outputs": [
        {
          "output_type": "stream",
          "name": "stdout",
          "text": [
            "hello worl my name is atul kumar shahi i am a ai ml \n",
            "developer and i a data expert \n",
            "finally\n"
          ]
        }
      ]
    },
    {
      "cell_type": "code",
      "metadata": {
        "colab": {
          "base_uri": "https://localhost:8080/"
        },
        "id": "b3a05835",
        "outputId": "0395f300-da43-4cc1-8d40-993310a7a2f8"
      },
      "source": [
        "try :\n",
        "    name = \"Alice\"\n",
        "    age = 30\n",
        "    city = \"New York\"\n",
        "\n",
        "    with open(\"info.txt\", \"w\") as f:\n",
        "      f.write(f\"Name: {name}\\n\")\n",
        "      f.write(f\"Age: {age}\\n\")\n",
        "      f.write(f\"City: {city}\\n\")\n",
        "\n",
        "    print(\"File 'info.txt' created with variable content.\")\n",
        "except Exception as e:\n",
        "    print(f\"An error occurred: {e}\")"
      ],
      "execution_count": null,
      "outputs": [
        {
          "output_type": "stream",
          "name": "stdout",
          "text": [
            "File 'info.txt' created with variable content.\n"
          ]
        }
      ]
    },
    {
      "cell_type": "code",
      "source": [
        "dic = {\n",
        "  \"name\": \"Atul\",\n",
        "  \"age\": 19,\n",
        "  \"skills\": [\"Python\", \"AI\", \"ML\"],\n",
        "  \"is_student\": \"true\"\n",
        "}\n",
        "print(dic)"
      ],
      "metadata": {
        "colab": {
          "base_uri": "https://localhost:8080/"
        },
        "id": "UA7mJoyXhv-F",
        "outputId": "63718702-ed1c-4344-f9de-85c9af4ee731"
      },
      "execution_count": null,
      "outputs": [
        {
          "output_type": "stream",
          "name": "stdout",
          "text": [
            "{'name': 'Atul', 'age': 19, 'skills': ['Python', 'AI', 'ML'], 'is_student': 'true'}\n"
          ]
        }
      ]
    },
    {
      "cell_type": "code",
      "source": [],
      "metadata": {
        "id": "8YiEsegDj5qw"
      },
      "execution_count": null,
      "outputs": []
    },
    {
      "cell_type": "markdown",
      "source": [
        "# converting python dic into json using the dumping method of json module\n"
      ],
      "metadata": {
        "id": "lGHRvFYfkEIr"
      }
    },
    {
      "cell_type": "code",
      "source": [
        "import json"
      ],
      "metadata": {
        "id": "8-M3WEvbkOZE"
      },
      "execution_count": null,
      "outputs": []
    },
    {
      "cell_type": "code",
      "source": [
        "import json\n",
        "\n",
        "dic = {\n",
        "  \"name\": \"Atul\",\n",
        "  \"age\": 19,\n",
        "  \"skills\": [\"Python\", \"AI\", \"ML\"],\n",
        "  \"is_student\": True\n",
        "}\n",
        "\n",
        "with open(\"data.json\", \"w\") as f:\n",
        "  json.dump(dic, f, indent=4)\n",
        "\n",
        "print(\"Dictionary successfully dumped to data.json\")"
      ],
      "metadata": {
        "colab": {
          "base_uri": "https://localhost:8080/"
        },
        "id": "kJJdZN83kRif",
        "outputId": "8a39e66b-530d-4dc9-d6e8-0741210fc9d4"
      },
      "execution_count": null,
      "outputs": [
        {
          "output_type": "stream",
          "name": "stdout",
          "text": [
            "Dictionary successfully dumped to data.json\n"
          ]
        }
      ]
    },
    {
      "cell_type": "code",
      "source": [
        "json_string =json.dumps(dic)"
      ],
      "metadata": {
        "id": "j7T4FzGkkjxG"
      },
      "execution_count": null,
      "outputs": []
    },
    {
      "cell_type": "code",
      "source": [
        "print(json_string)"
      ],
      "metadata": {
        "colab": {
          "base_uri": "https://localhost:8080/"
        },
        "id": "7sW4JJprlElB",
        "outputId": "45129eb0-e899-4a2f-e7a4-977a1f268ac5"
      },
      "execution_count": null,
      "outputs": [
        {
          "output_type": "stream",
          "name": "stdout",
          "text": [
            "{\"name\": \"Atul\", \"age\": 19, \"skills\": [\"Python\", \"AI\", \"ML\"], \"is_student\": true}\n"
          ]
        }
      ]
    },
    {
      "cell_type": "code",
      "source": [
        "with open(\"data.json\",\"a\") as f:\n",
        "  json.dump(dic, f, indent=4)"
      ],
      "metadata": {
        "id": "pgAOdH54lHJm"
      },
      "execution_count": null,
      "outputs": []
    },
    {
      "cell_type": "code",
      "source": [
        "json_string =json.dumps(dic)"
      ],
      "metadata": {
        "id": "9BobhCP4leap"
      },
      "execution_count": null,
      "outputs": []
    },
    {
      "cell_type": "code",
      "source": [
        "python_obj = json.loads(json_string)\n",
        "print(python_obj)"
      ],
      "metadata": {
        "colab": {
          "base_uri": "https://localhost:8080/"
        },
        "id": "Cwmdju8Jl46r",
        "outputId": "4ef2e8c6-5918-44c3-8e83-5c5375549223"
      },
      "execution_count": null,
      "outputs": [
        {
          "output_type": "stream",
          "name": "stdout",
          "text": [
            "{'name': 'Atul', 'age': 19, 'skills': ['Python', 'AI', 'ML'], 'is_student': True}\n"
          ]
        }
      ]
    },
    {
      "cell_type": "code",
      "source": [
        "# JSON string\n",
        "json_string = '{\"name\": \"Atul\", \"age\": 19, \"is_student\": true}'\n",
        "\n",
        "# Convert to Python dict\n",
        "person_dict = json.loads(json_string)\n",
        "\n",
        "print(person_dict)  # Atul\n",
        "print(type(person_dict))    # dict\n"
      ],
      "metadata": {
        "colab": {
          "base_uri": "https://localhost:8080/"
        },
        "id": "qIVZGwoAmCtK",
        "outputId": "e33a227b-d059-47d1-8ef5-913a77dc4ba0"
      },
      "execution_count": null,
      "outputs": [
        {
          "output_type": "stream",
          "name": "stdout",
          "text": [
            "{'name': 'Atul', 'age': 19, 'is_student': True}\n",
            "<class 'dict'>\n"
          ]
        }
      ]
    },
    {
      "cell_type": "code",
      "source": [
        "lists = [x**2 for x in range(10)]"
      ],
      "metadata": {
        "id": "XBBLfNK6nHmn"
      },
      "execution_count": null,
      "outputs": []
    },
    {
      "cell_type": "code",
      "source": [
        "lists"
      ],
      "metadata": {
        "colab": {
          "base_uri": "https://localhost:8080/"
        },
        "id": "DKJQNRAJoULP",
        "outputId": "5046a386-eb02-4b7b-ac60-8c39765196a8"
      },
      "execution_count": null,
      "outputs": [
        {
          "output_type": "execute_result",
          "data": {
            "text/plain": [
              "[0, 1, 4, 9, 16, 25, 36, 49, 64, 81]"
            ]
          },
          "metadata": {},
          "execution_count": 38
        }
      ]
    },
    {
      "cell_type": "code",
      "source": [
        "lists_new  = [\"even\" if x%2 ==0 else \"odd\" for x in range(10)]"
      ],
      "metadata": {
        "id": "6ZFo-LyYoVgp"
      },
      "execution_count": null,
      "outputs": []
    },
    {
      "cell_type": "code",
      "source": [
        "lists_new"
      ],
      "metadata": {
        "colab": {
          "base_uri": "https://localhost:8080/"
        },
        "id": "hCZ94qM-ooe5",
        "outputId": "20e82bf1-2d67-48d2-b343-351209629602"
      },
      "execution_count": null,
      "outputs": [
        {
          "output_type": "execute_result",
          "data": {
            "text/plain": [
              "['even', 'odd', 'even', 'odd', 'even', 'odd', 'even', 'odd', 'even', 'odd']"
            ]
          },
          "metadata": {},
          "execution_count": 41
        }
      ]
    },
    {
      "cell_type": "code",
      "source": [
        "pairs = [(x,y) for x in range(3) for y in range(3)]"
      ],
      "metadata": {
        "id": "cVI87JQ_o3F8"
      },
      "execution_count": null,
      "outputs": []
    },
    {
      "cell_type": "code",
      "source": [
        "pairs"
      ],
      "metadata": {
        "colab": {
          "base_uri": "https://localhost:8080/"
        },
        "id": "ELvh-mxqo-jk",
        "outputId": "e0ae72a1-7aa5-45e7-ee36-407f86537521"
      },
      "execution_count": null,
      "outputs": [
        {
          "output_type": "execute_result",
          "data": {
            "text/plain": [
              "[(0, 0), (0, 1), (0, 2), (1, 0), (1, 1), (1, 2), (2, 0), (2, 1), (2, 2)]"
            ]
          },
          "metadata": {},
          "execution_count": 43
        }
      ]
    },
    {
      "cell_type": "code",
      "source": [
        "pairs.sort()"
      ],
      "metadata": {
        "id": "nQDE81lQo_Ud"
      },
      "execution_count": null,
      "outputs": []
    },
    {
      "cell_type": "code",
      "source": [
        "pairs"
      ],
      "metadata": {
        "colab": {
          "base_uri": "https://localhost:8080/"
        },
        "id": "mnRcac1BpDHB",
        "outputId": "7f221980-301e-4799-fc2a-0a626c6ad00d"
      },
      "execution_count": null,
      "outputs": [
        {
          "output_type": "execute_result",
          "data": {
            "text/plain": [
              "[(0, 0), (0, 1), (0, 2), (1, 0), (1, 1), (1, 2), (2, 0), (2, 1), (2, 2)]"
            ]
          },
          "metadata": {},
          "execution_count": 45
        }
      ]
    },
    {
      "cell_type": "code",
      "source": [
        "matrix = [[1,2] , [2,3], [4,5]]\n",
        "linear_matrix = [nums for row in matrix for nums in row]"
      ],
      "metadata": {
        "id": "_MEdAFtXpEAG"
      },
      "execution_count": null,
      "outputs": []
    },
    {
      "cell_type": "code",
      "source": [
        "linear_matrix"
      ],
      "metadata": {
        "colab": {
          "base_uri": "https://localhost:8080/"
        },
        "id": "1u9aoZ3_pdXh",
        "outputId": "6cfab66d-d67e-4e06-ed9d-b1bc5107468e"
      },
      "execution_count": null,
      "outputs": [
        {
          "output_type": "execute_result",
          "data": {
            "text/plain": [
              "[1, 2, 2, 3, 4, 5]"
            ]
          },
          "metadata": {},
          "execution_count": 47
        }
      ]
    },
    {
      "cell_type": "code",
      "source": [
        "sets_com = { x for x in [1,2,3,4,5,6,7,8,9,10]}\n",
        "print(sets_com)"
      ],
      "metadata": {
        "colab": {
          "base_uri": "https://localhost:8080/"
        },
        "id": "N2YraJ8VpecQ",
        "outputId": "e6fb48f9-6d08-45de-8835-dbcd66751112"
      },
      "execution_count": null,
      "outputs": [
        {
          "output_type": "stream",
          "name": "stdout",
          "text": [
            "{1, 2, 3, 4, 5, 6, 7, 8, 9, 10}\n"
          ]
        }
      ]
    },
    {
      "cell_type": "code",
      "source": [
        "dictionary = {x:x**2 for x in range(10)}"
      ],
      "metadata": {
        "id": "w-qIN5qcpzf9"
      },
      "execution_count": null,
      "outputs": []
    },
    {
      "cell_type": "code",
      "source": [
        "dictionary"
      ],
      "metadata": {
        "colab": {
          "base_uri": "https://localhost:8080/"
        },
        "id": "nKPzKQJfqKeQ",
        "outputId": "fdee0607-4b4f-46cf-ee85-8bc0525fab54"
      },
      "execution_count": null,
      "outputs": [
        {
          "output_type": "execute_result",
          "data": {
            "text/plain": [
              "{0: 0, 1: 1, 2: 4, 3: 9, 4: 16, 5: 25, 6: 36, 7: 49, 8: 64, 9: 81}"
            ]
          },
          "metadata": {},
          "execution_count": 51
        }
      ]
    },
    {
      "cell_type": "code",
      "source": [],
      "metadata": {
        "id": "K--BhdtIqNC9"
      },
      "execution_count": null,
      "outputs": []
    },
    {
      "cell_type": "markdown",
      "source": [
        "# lamda function\n",
        "     # lamda arguments:expression"
      ],
      "metadata": {
        "id": "TE_Tp4bmqQZZ"
      }
    },
    {
      "cell_type": "code",
      "source": [
        "sq = lambda x :x**2\n",
        "print(sq(4))"
      ],
      "metadata": {
        "colab": {
          "base_uri": "https://localhost:8080/"
        },
        "id": "pOsuS6UsqSKG",
        "outputId": "9d8fb530-feb6-47d0-9535-ae53bf05b4f8"
      },
      "execution_count": null,
      "outputs": [
        {
          "output_type": "stream",
          "name": "stdout",
          "text": [
            "16\n"
          ]
        }
      ]
    },
    {
      "cell_type": "code",
      "source": [
        "number = [1, 2, 2, 3, 4, 5]"
      ],
      "metadata": {
        "id": "9FKTIdwOqnlR"
      },
      "execution_count": null,
      "outputs": []
    },
    {
      "cell_type": "code",
      "source": [
        "squ = list(map(lambda x :x**2 ,number))"
      ],
      "metadata": {
        "id": "5OJSlMllq1j8"
      },
      "execution_count": null,
      "outputs": []
    },
    {
      "cell_type": "code",
      "source": [
        "squ"
      ],
      "metadata": {
        "colab": {
          "base_uri": "https://localhost:8080/"
        },
        "id": "KVUIQkVqq-6P",
        "outputId": "3fda1a24-6810-4221-b808-a24b3247819e"
      },
      "execution_count": null,
      "outputs": [
        {
          "output_type": "execute_result",
          "data": {
            "text/plain": [
              "[1, 4, 4, 9, 16, 25]"
            ]
          },
          "metadata": {},
          "execution_count": 55
        }
      ]
    },
    {
      "cell_type": "code",
      "source": [
        "even = list(filter(lambda x :x%2==0 ,number))"
      ],
      "metadata": {
        "id": "iruI9pbsq_9K"
      },
      "execution_count": null,
      "outputs": []
    },
    {
      "cell_type": "code",
      "source": [
        "even"
      ],
      "metadata": {
        "colab": {
          "base_uri": "https://localhost:8080/"
        },
        "id": "9TPL8y27rWsZ",
        "outputId": "c13a3fe7-1ae5-49a2-d9f2-ac21faeddbd8"
      },
      "execution_count": null,
      "outputs": [
        {
          "output_type": "execute_result",
          "data": {
            "text/plain": [
              "[2, 2, 4]"
            ]
          },
          "metadata": {},
          "execution_count": 57
        }
      ]
    },
    {
      "cell_type": "code",
      "source": [
        "from functools import reduce\n",
        "product = reduce(lambda x,y :x*y ,number)\n",
        "product"
      ],
      "metadata": {
        "colab": {
          "base_uri": "https://localhost:8080/"
        },
        "id": "I_Zhg-R9rXoO",
        "outputId": "1fa9d136-4a31-4689-e0b0-1bb657656a59"
      },
      "execution_count": null,
      "outputs": [
        {
          "output_type": "execute_result",
          "data": {
            "text/plain": [
              "240"
            ]
          },
          "metadata": {},
          "execution_count": 59
        }
      ]
    },
    {
      "cell_type": "code",
      "source": [
        "add = lambda a, b: a + b\n",
        "result = add(5, 3)\n",
        "print(result)"
      ],
      "metadata": {
        "colab": {
          "base_uri": "https://localhost:8080/"
        },
        "id": "eTzQG24_rpXh",
        "outputId": "86207049-7ac4-4139-eac3-ce578765a96a"
      },
      "execution_count": null,
      "outputs": [
        {
          "output_type": "stream",
          "name": "stdout",
          "text": [
            "8\n"
          ]
        }
      ]
    },
    {
      "cell_type": "markdown",
      "source": [
        "# Getter & Setter"
      ],
      "metadata": {
        "id": "AF8T1HSyvwhI"
      }
    },
    {
      "cell_type": "code",
      "source": [
        "class person :\n",
        "  def __init__(self, name):\n",
        "    self._name = name\n",
        "  def get_name(self):\n",
        "    return self._name\n",
        "  def set_name(self, name):\n",
        "    if len(name) > 0:\n",
        "      self._name = name\n",
        "    else:\n",
        "      print(\"name cannot be empty\")"
      ],
      "metadata": {
        "id": "zIzush69sHjc"
      },
      "execution_count": null,
      "outputs": []
    },
    {
      "cell_type": "code",
      "source": [
        "p = person(\"Initial Name\") # Create an instance of the person class\n",
        "p.set_name(\"Atul\") # Call the set_name method on the instance\n",
        "print(p.get_name()) # You can also call get_name to see the updated name"
      ],
      "metadata": {
        "colab": {
          "base_uri": "https://localhost:8080/"
        },
        "id": "7T2HH3_awES3",
        "outputId": "f97b4908-9b98-42a2-a67c-fce4a9d4a7f2"
      },
      "execution_count": null,
      "outputs": [
        {
          "output_type": "stream",
          "name": "stdout",
          "text": [
            "Atul\n"
          ]
        }
      ]
    },
    {
      "cell_type": "code",
      "source": [
        "class person :\n",
        "  def __init__(self, name):\n",
        "    self._name = name\n",
        "  @property\n",
        "  def name(self):\n",
        "    return self._name\n",
        "  @name.setter\n",
        "  def name(self, name):\n",
        "    if len(name) > 0:\n",
        "      self._name = name\n",
        "    else:\n",
        "      print(\"name cannot be empty\")\n"
      ],
      "metadata": {
        "id": "lpe683dbwLS_"
      },
      "execution_count": null,
      "outputs": []
    },
    {
      "cell_type": "code",
      "source": [
        "a = person(\"atul\")"
      ],
      "metadata": {
        "id": "BcyTBiEnwuSC"
      },
      "execution_count": null,
      "outputs": []
    },
    {
      "cell_type": "code",
      "source": [
        "a.name = \"ncjdsvh\""
      ],
      "metadata": {
        "id": "Fli6gHOnwwTf"
      },
      "execution_count": null,
      "outputs": []
    },
    {
      "cell_type": "code",
      "source": [
        "print(a.name)"
      ],
      "metadata": {
        "colab": {
          "base_uri": "https://localhost:8080/"
        },
        "id": "9PqBgbg4w59h",
        "outputId": "8107980c-f2a6-4fc9-b7a2-ebf9df0c7e2f"
      },
      "execution_count": null,
      "outputs": [
        {
          "output_type": "stream",
          "name": "stdout",
          "text": [
            "ncjdsvh\n"
          ]
        }
      ]
    },
    {
      "cell_type": "code",
      "source": [
        "class add :\n",
        "  @staticmethod\n",
        "  def add(a,b):\n",
        "    return a+b\n",
        "  @staticmethod\n",
        "  def sub(a,b):\n",
        "    return a-b"
      ],
      "metadata": {
        "id": "BeDQKr8_xHdi"
      },
      "execution_count": null,
      "outputs": []
    },
    {
      "cell_type": "code",
      "source": [
        "result = add.add(2,5)\n",
        "print(result)"
      ],
      "metadata": {
        "colab": {
          "base_uri": "https://localhost:8080/"
        },
        "id": "2piKuR9Lxg7Q",
        "outputId": "062b8434-c3d1-446a-c341-d20357099587"
      },
      "execution_count": null,
      "outputs": [
        {
          "output_type": "stream",
          "name": "stdout",
          "text": [
            "7\n"
          ]
        }
      ]
    },
    {
      "cell_type": "code",
      "source": [
        "class vote :\n",
        "\n",
        "  @staticmethod\n",
        "  def vote_age(age):\n",
        "    if age >= 18:\n",
        "      print(\"you are eligible to vote\")\n",
        "    else:\n",
        "      print(\"you are not eligible to vote\")\n",
        "\n"
      ],
      "metadata": {
        "id": "-tYDClWnxob5"
      },
      "execution_count": 5,
      "outputs": []
    },
    {
      "cell_type": "code",
      "source": [
        "voter_data = vote.vote_age(19)"
      ],
      "metadata": {
        "colab": {
          "base_uri": "https://localhost:8080/"
        },
        "id": "IHGoUZVfnHMe",
        "outputId": "24e2b502-bfe7-46ca-8a4e-e68cc8ea717b"
      },
      "execution_count": 7,
      "outputs": [
        {
          "output_type": "stream",
          "name": "stdout",
          "text": [
            "you are eligible to vote\n"
          ]
        }
      ]
    },
    {
      "cell_type": "code",
      "source": [],
      "metadata": {
        "id": "7rbhQrivnM12"
      },
      "execution_count": null,
      "outputs": []
    }
  ]
}